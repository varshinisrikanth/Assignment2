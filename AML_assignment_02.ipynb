{
  "nbformat": 4,
  "nbformat_minor": 0,
  "metadata": {
    "colab": {
      "provenance": []
    },
    "kernelspec": {
      "name": "python3",
      "display_name": "Python 3"
    },
    "language_info": {
      "name": "python"
    }
  },
  "cells": [
    {
      "cell_type": "code",
      "execution_count": 1,
      "metadata": {
        "colab": {
          "base_uri": "https://localhost:8080/"
        },
        "id": "HSPLWw_-pNp-",
        "outputId": "ac235c76-2825-48c1-e7b3-c535bb1dff82"
      },
      "outputs": [
        {
          "output_type": "stream",
          "name": "stdout",
          "text": [
            "X_train:\n",
            "[[11 12]\n",
            " [ 5  6]\n",
            " [ 9 10]\n",
            " [ 7  8]]\n",
            "\n",
            "y_train:\n",
            "[0 1 1 0]\n",
            "\n",
            "X_test:\n",
            "[[1 2]\n",
            " [3 4]]\n",
            "\n",
            "y_test:\n",
            "[0 1]\n"
          ]
        }
      ],
      "source": [
        "import numpy as np\n",
        "from sklearn.model_selection import train_test_split\n",
        "\n",
        "# Sample data\n",
        "data_array = np.array([[1, 2, 0], [3, 4, 1], [5, 6, 1], [7, 8, 0], [9, 10, 1], [11, 12, 0]])\n",
        "\n",
        "# Split the data using train_test_split\n",
        "features = data_array[:, :-1]\n",
        "labels = data_array[:, -1]\n",
        "X_train, X_test, y_train, y_test = train_test_split(features, labels, test_size=0.2, random_state=42)\n",
        "\n",
        "# Print the results\n",
        "print('X_train:')\n",
        "print(X_train)\n",
        "print('\\ny_train:')\n",
        "print(y_train)\n",
        "print('\\nX_test:')\n",
        "print(X_test)\n",
        "print('\\ny_test:')\n",
        "print(y_test)\n"
      ]
    },
    {
      "cell_type": "code",
      "source": [
        "import numpy as np\n",
        "\n",
        "# Sample data\n",
        "data_array = np.array([[1, 2, 0], [3, 4, 1], [5, 6, 1], [7, 8, 0]])\n",
        "\n",
        "# Shuffle the data randomly\n",
        "np.random.shuffle(data_array)\n",
        "\n",
        "# Define the split fraction\n",
        "split_fraction = 0.8\n",
        "split_index = int(split_fraction * len(data_array))\n",
        "\n",
        "# Split the data into training and testing sets\n",
        "X_train = data_array[:split_index, :-1]\n",
        "y_train = data_array[:split_index, -1]\n",
        "X_test = data_array[split_index:, :-1]\n",
        "y_test = data_array[split_index:, -1]\n",
        "\n",
        "print('X_train:')\n",
        "print(X_train)\n",
        "print('\\ny_train:')\n",
        "print(y_train)\n",
        "print('\\nX_test:')\n",
        "print(X_test)\n",
        "print('\\ny_test:')\n",
        "print(y_test)\n"
      ],
      "metadata": {
        "colab": {
          "base_uri": "https://localhost:8080/"
        },
        "id": "_qUlKd_Ypz6g",
        "outputId": "eb2aed0d-4885-4516-963f-015f81e32c13"
      },
      "execution_count": 2,
      "outputs": [
        {
          "output_type": "stream",
          "name": "stdout",
          "text": [
            "X_train:\n",
            "[[5 6]\n",
            " [7 8]\n",
            " [3 4]]\n",
            "\n",
            "y_train:\n",
            "[1 0 1]\n",
            "\n",
            "X_test:\n",
            "[[1 2]]\n",
            "\n",
            "y_test:\n",
            "[0]\n"
          ]
        }
      ]
    },
    {
      "cell_type": "code",
      "source": [
        "import numpy as np\n",
        "\n",
        "def custom_random_split(input_features, input_labels, split_fraction):\n",
        "    num_samples = input_features.shape[0]\n",
        "\n",
        "    # Shuffle the indices randomly\n",
        "    shuffled_indices = np.random.permutation(num_samples)\n",
        "\n",
        "    # Calculate the split index\n",
        "    split_index = int(split_fraction * num_samples)\n",
        "\n",
        "    # Select the first 'split_index' shuffled indices for training\n",
        "    train_indices = shuffled_indices[:split_index]\n",
        "\n",
        "    # Use the selected indices to split the data\n",
        "    X_train = input_features[train_indices]\n",
        "    y_train = input_labels[train_indices]\n",
        "\n",
        "    # The rest of the indices are for testing\n",
        "    test_indices = shuffled_indices[split_index:]\n",
        "\n",
        "    X_test = input_features[test_indices]\n",
        "    y_test = input_labels[test_indices]\n",
        "\n",
        "    return (X_train, y_train, X_test, y_test)\n",
        "\n",
        "# Sample data\n",
        "data_array = np.array([[1, 2, 0], [3, 4, 1], [5, 6, 1], [7, 8, 0]])\n",
        "\n",
        "# Split the data using custom_random_split\n",
        "X_train, y_train, X_test, y_test = custom_random_split(data_array[:, :-1], data_array[:, -1], split_fraction=0.8)\n",
        "\n",
        "# Print the results\n",
        "print('X_train:')\n",
        "print(X_train)\n",
        "print('\\ny_train:')\n",
        "print(y_train)\n",
        "print('\\nX_test:')\n",
        "print(X_test)\n",
        "print('\\ny_test:')\n",
        "print(y_test)\n"
      ],
      "metadata": {
        "colab": {
          "base_uri": "https://localhost:8080/"
        },
        "id": "rx980Dutp3A9",
        "outputId": "1aea4f3e-3c82-469c-8f91-2a6a18f1d509"
      },
      "execution_count": 3,
      "outputs": [
        {
          "output_type": "stream",
          "name": "stdout",
          "text": [
            "X_train:\n",
            "[[7 8]\n",
            " [3 4]\n",
            " [1 2]]\n",
            "\n",
            "y_train:\n",
            "[0 1 0]\n",
            "\n",
            "X_test:\n",
            "[[5 6]]\n",
            "\n",
            "y_test:\n",
            "[1]\n"
          ]
        }
      ]
    },
    {
      "cell_type": "code",
      "source": [
        "import numpy as np\n",
        "\n",
        "# Sample data\n",
        "data_array = np.array([[1, 2, 0], [3, 4, 1], [5, 6, 1], [7, 8, 0]])\n",
        "\n",
        "# Define the split fraction\n",
        "split_fraction = 0.8\n",
        "\n",
        "# Calculate the split index\n",
        "split_index = int(split_fraction * len(data_array))\n",
        "\n",
        "# Split the data into training and testing sets\n",
        "X_train = data_array[:split_index, :-1]\n",
        "y_train = data_array[:split_index, -1]\n",
        "X_test = data_array[split_index:, :-1]\n",
        "y_test = data_array[split_index:, -1]\n",
        "\n",
        "# Print the results\n",
        "print('X_train:')\n",
        "print(X_train)\n",
        "print('\\ny_train:')\n",
        "print(y_train)\n",
        "print('\\nX_test:')\n",
        "print(X_test)\n",
        "print('\\ny_test:')\n",
        "print(y_test)\n"
      ],
      "metadata": {
        "colab": {
          "base_uri": "https://localhost:8080/"
        },
        "id": "hU37nGGJqETd",
        "outputId": "b864439a-0787-40c8-80f7-b0b611218950"
      },
      "execution_count": 4,
      "outputs": [
        {
          "output_type": "stream",
          "name": "stdout",
          "text": [
            "X_train:\n",
            "[[1 2]\n",
            " [3 4]\n",
            " [5 6]]\n",
            "\n",
            "y_train:\n",
            "[0 1 1]\n",
            "\n",
            "X_test:\n",
            "[[7 8]]\n",
            "\n",
            "y_test:\n",
            "[0]\n"
          ]
        }
      ]
    },
    {
      "cell_type": "code",
      "source": [
        "import numpy as np\n",
        "from sklearn.model_selection import train_test_split\n",
        "\n",
        "# Sample data\n",
        "data_array = np.array([[1, 2, 0], [3, 4, 1], [5, 6, 1], [7, 8, 0]])\n",
        "\n",
        "# Split the data using train_test_split\n",
        "features = data_array[:, :-1]\n",
        "labels = data_array[:, -1]\n",
        "X_train, X_test, y_train, y_test = train_test_split(features, labels, test_size=0.2, random_state=42)\n",
        "\n",
        "# Print the results\n",
        "print('X_train:')\n",
        "print(X_train)\n",
        "print('\\ny_train:')\n",
        "print(y_train)\n",
        "print('\\nX_test:')\n",
        "print(X_test)\n",
        "print('\\ny_test:')\n",
        "print(y_test)\n"
      ],
      "metadata": {
        "colab": {
          "base_uri": "https://localhost:8080/"
        },
        "id": "5eqV3stWqThq",
        "outputId": "d1c1ae7c-71fb-4407-f54d-6a0488112687"
      },
      "execution_count": 5,
      "outputs": [
        {
          "output_type": "stream",
          "name": "stdout",
          "text": [
            "X_train:\n",
            "[[7 8]\n",
            " [1 2]\n",
            " [5 6]]\n",
            "\n",
            "y_train:\n",
            "[0 0 1]\n",
            "\n",
            "X_test:\n",
            "[[3 4]]\n",
            "\n",
            "y_test:\n",
            "[1]\n"
          ]
        }
      ]
    },
    {
      "cell_type": "code",
      "source": [
        "import numpy as np\n",
        "\n",
        "class CustomKNN:\n",
        "    def __init__(self, n_neighbors=5):\n",
        "        self.n_neighbors = n_neighbors\n",
        "        self.X_train = None\n",
        "        self.y_train = None\n",
        "\n",
        "    def fit(self, X_train, y_train):\n",
        "        self.X_train = X_train\n",
        "        self.y_train = y_train\n",
        "\n",
        "    def predict(self, X_test):\n",
        "        y_pred = np.zeros(X_test.shape[0])\n",
        "\n",
        "        for i, x in enumerate(X_test):\n",
        "            # Calculate distances between the current sample and all training samples\n",
        "            distances = np.linalg.norm(self.X_train - x, axis=1)\n",
        "\n",
        "            # Get indices of the k-nearest neighbors\n",
        "            k_indices = np.argsort(distances)[:self.n_neighbors]\n",
        "\n",
        "            # Find the most common class label among the neighbors\n",
        "            neighbor_labels = self.y_train[k_indices]\n",
        "            unique_labels, label_counts = np.unique(neighbor_labels, return_counts=True)\n",
        "            y_pred[i] = unique_labels[np.argmax(label_counts)]\n",
        "\n",
        "        return y_pred\n"
      ],
      "metadata": {
        "id": "sU633ppjqpAU"
      },
      "execution_count": 7,
      "outputs": []
    },
    {
      "cell_type": "code",
      "source": [
        "import numpy as np\n",
        "\n",
        "# Create an instance of the CustomKNN class with default settings (5 neighbors)\n",
        "custom_knn = CustomKNN()\n",
        "\n",
        "# Define your training data and labels (example data)\n",
        "X_train = np.array([[1, 2], [2, 3], [3, 4], [4, 5]])\n",
        "y_train = np.array([0, 1, 0, 1])\n",
        "\n",
        "# Fit the CustomKNN model with the training data and labels\n",
        "custom_knn.fit(X_train, y_train)\n"
      ],
      "metadata": {
        "id": "5OdTLB6qq3tV"
      },
      "execution_count": 8,
      "outputs": []
    },
    {
      "cell_type": "code",
      "source": [
        "import numpy as np\n",
        "from sklearn.metrics import accuracy_score\n",
        "\n",
        "# Define the CustomKNN class\n",
        "class CustomKNN:\n",
        "    def __init__(self, n_neighbors=5):\n",
        "        self.n_neighbors = n_neighbors\n",
        "        self.X_train = None\n",
        "        self.y_train = None\n",
        "\n",
        "    def fit(self, X_train, y_train):\n",
        "        self.X_train = X_train\n",
        "        self.y_train = y_train\n",
        "\n",
        "    def predict(self, X_test):\n",
        "        y_pred = np.zeros(X_test.shape[0])\n",
        "\n",
        "        for i, x in enumerate(X_test):\n",
        "            # Calculate distances between the current sample and all training samples\n",
        "            distances = np.linalg.norm(self.X_train - x, axis=1)\n",
        "\n",
        "            # Get indices of the k-nearest neighbors\n",
        "            k_indices = np.argsort(distances)[:self.n_neighbors]\n",
        "\n",
        "            # Find the most common class label among the neighbors\n",
        "            neighbor_labels = self.y_train[k_indices]\n",
        "            unique_labels, label_counts = np.unique(neighbor_labels, return_counts=True)\n",
        "            y_pred[i] = unique_labels[np.argmax(label_counts)]\n",
        "\n",
        "        return y_pred\n",
        "\n",
        "    def evaluate(self, X_test, y_test):\n",
        "        # Predict labels for the test data\n",
        "        y_pred = self.predict(X_test)\n",
        "\n",
        "        # Calculate accuracy\n",
        "        accuracy = accuracy_score(y_test, y_pred)\n",
        "\n",
        "        return accuracy, y_pred\n",
        "\n",
        "# Create an instance of the CustomKNN class with default settings (5 neighbors)\n",
        "custom_knn = CustomKNN()\n",
        "\n",
        "# Define your training data and labels (example data)\n",
        "X_train = np.array([[1, 2], [2, 3], [3, 4], [4, 5]])\n",
        "y_train = np.array([0, 1, 0, 1])\n",
        "\n",
        "# Fit the CustomKNN model with the training data and labels\n",
        "custom_knn.fit(X_train, y_train)\n",
        "\n",
        "# Define your test data and labels (example data)\n",
        "X_test = np.array([[1.5, 2.5], [3.5, 4.5]])\n",
        "y_test = np.array([0, 0])\n",
        "\n",
        "# Evaluate the model and get predictions and accuracy\n",
        "accuracy, y_pred = custom_knn.evaluate(X_test, y_test)\n",
        "\n",
        "# Print the results\n",
        "print(\"Predictions:\", y_pred)\n",
        "print(\"Accuracy:\", accuracy)\n"
      ],
      "metadata": {
        "colab": {
          "base_uri": "https://localhost:8080/"
        },
        "id": "7Sq6dCWVrdbx",
        "outputId": "74d04390-e3fa-4986-f680-3334233b6ddb"
      },
      "execution_count": 9,
      "outputs": [
        {
          "output_type": "stream",
          "name": "stdout",
          "text": [
            "Predictions: [0. 0.]\n",
            "Accuracy: 1.0\n"
          ]
        }
      ]
    },
    {
      "cell_type": "code",
      "source": [
        "from sklearn.metrics import accuracy_score\n",
        "import numpy as np\n",
        "\n",
        "# Sample data (replace with your data)\n",
        "X_train = np.array([[1, 2], [2, 3], [3, 4], [4, 5]])\n",
        "y_train = np.array([0, 1, 0, 1])\n",
        "X_test = np.array([[2, 2], [3, 3]])\n",
        "y_true = np.array([0, 1])\n",
        "\n",
        "# Define a range of hyperparameters to search\n",
        "n_neighbors_values = [3, 5, 7]\n",
        "weights_values = ['uniform', 'distance']\n",
        "\n",
        "best_accuracy = 0\n",
        "best_params = {}\n",
        "\n",
        "# Iterate through all hyperparameter combinations\n",
        "for n_neighbors in n_neighbors_values:\n",
        "    for weights in weights_values:\n",
        "        # Create and train a KNN model with the current hyperparameters\n",
        "        class CustomKNN:\n",
        "            def __init__(self):\n",
        "                self.n_neighbors = n_neighbors\n",
        "                self.weights = weights\n",
        "                self.X_train = None\n",
        "                self.y_train = None\n",
        "\n",
        "            def fit(self, X, y):\n",
        "                self.X_train = X\n",
        "                self.y_train = y\n",
        "\n",
        "            def predict(self, X):\n",
        "                y_pred = []\n",
        "\n",
        "                for x in X:\n",
        "                    # Calculate distances between the current sample and all training samples\n",
        "                    distances = [np.linalg.norm(x - x_train) for x_train in self.X_train]\n",
        "\n",
        "                    # Get indices of the k-nearest neighbors\n",
        "                    k_indices = np.argsort(distances)[:self.n_neighbors]\n",
        "\n",
        "                    # Find the most common class label among the neighbors\n",
        "                    neighbor_labels = [self.y_train[i] for i in k_indices]\n",
        "                    unique_labels, label_counts = np.unique(neighbor_labels, return_counts=True)\n",
        "                    y_pred.append(unique_labels[np.argmax(label_counts)])\n",
        "\n",
        "                return np.array(y_pred)\n",
        "\n",
        "        knn = CustomKNN()\n",
        "        knn.fit(X_train, y_train)\n",
        "\n",
        "        # Make predictions on the test set\n",
        "        y_pred = knn.predict(X_test)\n",
        "\n",
        "        # Calculate accuracy\n",
        "        accuracy = accuracy_score(y_true, y_pred)\n",
        "\n",
        "        # Check if this combination of hyperparameters gives a better accuracy\n",
        "        if accuracy > best_accuracy:\n",
        "            best_accuracy = accuracy\n",
        "            best_params = {'n_neighbors': n_neighbors, 'weights': weights}\n",
        "\n",
        "print(f\"Best Hyperparameters: {best_params}\")\n",
        "print(f\"Best Accuracy: {best_accuracy}\")\n"
      ],
      "metadata": {
        "colab": {
          "base_uri": "https://localhost:8080/"
        },
        "id": "SHCdHtR2rwnh",
        "outputId": "9681ddfa-31b0-4f9d-fbd6-1d9385f550d7"
      },
      "execution_count": 10,
      "outputs": [
        {
          "output_type": "stream",
          "name": "stdout",
          "text": [
            "Best Hyperparameters: {'n_neighbors': 3, 'weights': 'uniform'}\n",
            "Best Accuracy: 0.5\n"
          ]
        }
      ]
    }
  ]
}